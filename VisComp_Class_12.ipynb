{
  "cells": [
    {
      "cell_type": "markdown",
      "metadata": {
        "id": "view-in-github",
        "colab_type": "text"
      },
      "source": [
        "<a href=\"https://colab.research.google.com/github/Arthur-Barreto/Machine-Vision/blob/main/VisComp_Class_12.ipynb\" target=\"_parent\"><img src=\"https://colab.research.google.com/assets/colab-badge.svg\" alt=\"Open In Colab\"/></a>"
      ]
    },
    {
      "cell_type": "markdown",
      "metadata": {
        "id": "ldormuK39mU1"
      },
      "source": [
        "# Class 12: Image Scaling"
      ]
    },
    {
      "cell_type": "markdown",
      "metadata": {
        "id": "Ot_LD8I8AOQ6"
      },
      "source": [
        "## Preliminaries"
      ]
    },
    {
      "cell_type": "markdown",
      "metadata": {
        "id": "jrA0L5tPd_aG"
      },
      "source": [
        "Run the cell below to download the class pack."
      ]
    },
    {
      "cell_type": "code",
      "execution_count": 1,
      "metadata": {
        "id": "fMqO3xXod_fM",
        "outputId": "88e50cdb-bfbd-4cfe-8131-d69337ca14da",
        "colab": {
          "base_uri": "https://localhost:8080/"
        }
      },
      "outputs": [
        {
          "output_type": "stream",
          "name": "stderr",
          "text": [
            "Downloading...\n",
            "From: https://drive.google.com/uc?id=1LxuIA1hxbpABfB41q7LbTjBAghNlmJ--\n",
            "To: /content/12.zip\n",
            "100%|██████████| 662k/662k [00:00<00:00, 7.02MB/s]\n"
          ]
        },
        {
          "output_type": "stream",
          "name": "stdout",
          "text": [
            "Archive:  12.zip\n",
            "  inflating: atletica.png            \n",
            "  inflating: consulting.png          \n",
            "  inflating: harvard.png             \n",
            "  inflating: informatica.png         \n",
            "  inflating: insper.png              \n",
            "  inflating: sdx.py                  \n",
            "  inflating: smash.png               \n"
          ]
        }
      ],
      "source": [
        "import gdown\n",
        "\n",
        "gdown.download(id='1LxuIA1hxbpABfB41q7LbTjBAghNlmJ--')\n",
        "\n",
        "!unzip -o '12.zip'\n",
        "!rm '12.zip'"
      ]
    },
    {
      "cell_type": "markdown",
      "metadata": {
        "id": "qLYdrANx9t0n"
      },
      "source": [
        "Run the cell below to import the class modules.\n",
        "\n",
        "If you get import warnings, try using **Ctrl+m .** (notice there is a dot there) to restart the kernel."
      ]
    },
    {
      "cell_type": "code",
      "execution_count": 2,
      "metadata": {
        "id": "x3QrEMEhje9z"
      },
      "outputs": [],
      "source": [
        "import cv2 as cv\n",
        "import numpy as np\n",
        "\n",
        "from sdx import *\n",
        "from math import floor, ceil"
      ]
    },
    {
      "cell_type": "markdown",
      "source": [
        "## Loading a specific image"
      ],
      "metadata": {
        "id": "9IOIl1dXl-Xp"
      }
    },
    {
      "cell_type": "markdown",
      "source": [
        "The idea of this notebook is, yet another time, running the same code for different images.\n",
        "\n",
        "By changing the parameter below, you have 6 images to choose."
      ],
      "metadata": {
        "id": "m_Dy-NHdl-K7"
      }
    },
    {
      "cell_type": "markdown",
      "source": [
        "Possible values of `NAME`: `atletica`, `consulting`, `smash`, `insper`, `harvard`, `informatica`"
      ],
      "metadata": {
        "id": "MsY1oAI9mMS6"
      }
    },
    {
      "cell_type": "code",
      "source": [
        "NAME = 'smash'"
      ],
      "metadata": {
        "id": "dWNJDrMWmNVh"
      },
      "execution_count": 10,
      "outputs": []
    },
    {
      "cell_type": "markdown",
      "source": [
        "The cell below loads the chosen image and converts it to gray.\n",
        "\n",
        "Play a bit with the parameter to see the differences between the images."
      ],
      "metadata": {
        "id": "lKdwNB03mTyd"
      }
    },
    {
      "cell_type": "code",
      "source": [
        "image = cv_grayread(f'{NAME}.png', asfloat=True)\n",
        "\n",
        "cv_imshow(image)"
      ],
      "metadata": {
        "id": "tDSCidNEmT46",
        "outputId": "b0cf9413-f980-4c4b-86e0-fbac3102bf86",
        "colab": {
          "base_uri": "https://localhost:8080/",
          "height": 197
        }
      },
      "execution_count": 11,
      "outputs": [
        {
          "output_type": "display_data",
          "data": {
            "text/plain": [
              "<PIL.Image.Image image mode=L size=180x180>"
            ],
            "image/png": "[encoded data removed]"
          },
          "metadata": {}
        }
      ]
    },
    {
      "cell_type": "markdown",
      "source": [
        "## Preliminaries"
      ],
      "metadata": {
        "id": "OTP9qjUTqUU5"
      }
    },
    {
      "cell_type": "markdown",
      "source": [
        "The parameter below the scale factor by which we want to resize the image.\n",
        "\n",
        "The default value is `0.8`, which means reducing to 80% of its original size."
      ],
      "metadata": {
        "id": "HE-iFq7MuKru"
      }
    },
    {
      "cell_type": "code",
      "source": [
        "SCALE = 0.8"
      ],
      "metadata": {
        "id": "uCIrNRb1cpoN"
      },
      "execution_count": 12,
      "outputs": []
    },
    {
      "cell_type": "markdown",
      "source": [
        "Let's keep variables for the new shape, as we will use it multiple times."
      ],
      "metadata": {
        "id": "qjZYXOLxudIg"
      }
    },
    {
      "cell_type": "code",
      "source": [
        "height, width = image.shape\n",
        "\n",
        "output_height = round(height * SCALE)\n",
        "output_width = round(width * SCALE)"
      ],
      "metadata": {
        "id": "XM_tMuH2fjwL"
      },
      "execution_count": 13,
      "outputs": []
    },
    {
      "cell_type": "markdown",
      "source": [
        "## Activity 1"
      ],
      "metadata": {
        "id": "TuuCgmPEuyWt"
      }
    },
    {
      "cell_type": "markdown",
      "source": [
        "Implement the **nearest neighbor** algorithm, as explained by the teacher."
      ],
      "metadata": {
        "id": "x_13ERT4vDuc"
      }
    },
    {
      "cell_type": "code",
      "source": [
        "output_image = np.empty((output_height, output_width))\n",
        "\n",
        "for oy in range(output_height):\n",
        "  for ox in range(output_width):\n",
        "    new_oy = round(oy/SCALE)\n",
        "    new_ox = round(ox/SCALE)\n",
        "    output_image[oy, ox] =  image[new_oy, new_ox]\n",
        "\n",
        "cv_imshow(output_image)"
      ],
      "metadata": {
        "id": "WDsXj0jqcTZm",
        "outputId": "c3c6687d-96d7-42dc-c85a-4e2c200ae1e0",
        "colab": {
          "base_uri": "https://localhost:8080/",
          "height": 161
        }
      },
      "execution_count": 15,
      "outputs": [
        {
          "output_type": "display_data",
          "data": {
            "text/plain": [
              "<PIL.Image.Image image mode=L size=144x144>"
            ],
            "image/png": "[encoded data removed]"
          },
          "metadata": {}
        }
      ]
    },
    {
      "cell_type": "markdown",
      "source": [
        "## Activity 2"
      ],
      "metadata": {
        "id": "9S1bOaCqv1H8"
      }
    },
    {
      "cell_type": "markdown",
      "source": [
        "Implement the **average of neighbors** algorithm, as explained by the teacher."
      ],
      "metadata": {
        "id": "wTFDYtxcv1Bk"
      }
    },
    {
      "cell_type": "code",
      "source": [
        "output_image = np.empty((output_height, output_width))\n",
        "\n",
        "for oy in range(output_height):\n",
        "  for ox in range(output_width):\n",
        "    y1 = floor(oy/SCALE)\n",
        "    y2 = ceil(oy/SCALE)\n",
        "    x1 = floor(ox/SCALE)\n",
        "    x2 = ceil(ox/SCALE)\n",
        "    top_left = image[y1,x1]\n",
        "    top_right = image[y1,x2]\n",
        "    bottom_left = image[y2,x1]\n",
        "    bottom_right = image[y2,x2]\n",
        "    media = (top_left+top_right+bottom_left+bottom_right)/4\n",
        "    output_image[oy, ox] = media\n",
        "\n",
        "cv_imshow(output_image)"
      ],
      "metadata": {
        "id": "vjBNkbSbcTWF",
        "outputId": "4fecb9af-d7b2-4170-b44f-78b877103aa6",
        "colab": {
          "base_uri": "https://localhost:8080/",
          "height": 161
        }
      },
      "execution_count": 20,
      "outputs": [
        {
          "output_type": "display_data",
          "data": {
            "text/plain": [
              "<PIL.Image.Image image mode=L size=144x144>"
            ],
            "image/png": "[encoded data removed]"
          },
          "metadata": {}
        }
      ]
    },
    {
      "cell_type": "markdown",
      "source": [
        "## Activity 3"
      ],
      "metadata": {
        "id": "fbYB65YGv-cJ"
      }
    },
    {
      "cell_type": "markdown",
      "source": [
        "Implement the **bilinear interpolation** algorithm, as explained by the teacher."
      ],
      "metadata": {
        "id": "OArm1z-twCyM"
      }
    },
    {
      "cell_type": "code",
      "source": [
        "output_image = np.empty((output_height, output_width))\n",
        "\n",
        "for oy in range(output_height):\n",
        "  for ox in range(output_width):\n",
        "\n",
        "    y1 = floor(oy/SCALE)\n",
        "    y2 = ceil(oy/SCALE)\n",
        "    x1 = floor(ox/SCALE)\n",
        "    x2 = ceil(ox/SCALE)\n",
        "\n",
        "    y = oy/SCALE\n",
        "    x = ox/SCALE\n",
        "\n",
        "    dy1 = y - y1\n",
        "    dy2 = y2 - y\n",
        "    dx1 = x - x1\n",
        "    dx2 = x2 - x\n",
        "\n",
        "    top_left = image[y1,x1]\n",
        "    top_right = image[y1,x2]\n",
        "    bottom_left = image[y2,x1]\n",
        "    bottom_right = image[y2,x2]\n",
        "\n",
        "    py1 = (dx2)*top_left + (dx1)*top_right\n",
        "    py2 = (dx2)*bottom_left + (dx1)*bottom_right\n",
        "\n",
        "    p = (dy2)*py1 + (dy1)*py2\n",
        "\n",
        "    output_image[oy, ox] = p\n",
        "\n",
        "cv_imshow(output_image)"
      ],
      "metadata": {
        "id": "Sy-O1sc6v-lm",
        "outputId": "c85ef3d9-9047-475d-8b6c-863839ea53fe",
        "colab": {
          "base_uri": "https://localhost:8080/",
          "height": 161
        }
      },
      "execution_count": 23,
      "outputs": [
        {
          "output_type": "display_data",
          "data": {
            "text/plain": [
              "<PIL.Image.Image image mode=L size=144x144>"
            ],
            "image/png": "[encoded data removed]"
          },
          "metadata": {}
        }
      ]
    },
    {
      "cell_type": "markdown",
      "source": [
        "## Activity 4"
      ],
      "metadata": {
        "id": "1_JYWzcJv_1X"
      }
    },
    {
      "cell_type": "markdown",
      "source": [
        "Implement the **fixed bilinear interpolation** algorithm, as explained by the teacher."
      ],
      "metadata": {
        "id": "pgbiQNk7v_9k"
      }
    },
    {
      "cell_type": "code",
      "source": [
        "output_image = np.empty((output_height, output_width))\n",
        "\n",
        "for oy in range(output_height):\n",
        "  for ox in range(output_width):\n",
        "\n",
        "    y = oy/SCALE\n",
        "    x = ox/SCALE\n",
        "\n",
        "    y1 = floor(oy/SCALE)\n",
        "    y2 = ceil(oy/SCALE)\n",
        "    x1 = floor(ox/SCALE)\n",
        "    x2 = ceil(ox/SCALE)\n",
        "\n",
        "    if y1 == y2 and x1 == x2:\n",
        "        output_image[oy, ox] = image[y1,x1]\n",
        "\n",
        "    elif y1 == y2:\n",
        "\n",
        "        dx1 = x - x1\n",
        "        dx2 = x2 - x\n",
        "\n",
        "        left = image[y2,x1]\n",
        "        right = image[y2,x2]\n",
        "        p = (dx2)*left + (dx1)*right\n",
        "        output_image[oy, ox] = p\n",
        "\n",
        "    elif x1 == x2:\n",
        "\n",
        "        dy1 = y - y1\n",
        "        dy2 = y2 - y\n",
        "\n",
        "        bottom = image[y2,x1]\n",
        "        top = image[y1,x2]\n",
        "        p = (dy2)*bottom + (dy1)*top\n",
        "        output_image[oy, ox] = p\n",
        "\n",
        "    else :\n",
        "\n",
        "        dy1 = y - y1\n",
        "        dy2 = y2 - y\n",
        "        dx1 = x - x1\n",
        "        dx2 = x2 - x\n",
        "\n",
        "        top_left = image[y1,x1]\n",
        "        top_right = image[y1,x2]\n",
        "        bottom_left = image[y2,x1]\n",
        "        bottom_right = image[y2,x2]\n",
        "\n",
        "        py1 = (dx2)*top_left + (dx1)*top_right\n",
        "        py2 = (dx2)*bottom_left + (dx1)*bottom_right\n",
        "\n",
        "        p = (dy2)*py1 + (dy1)*py2\n",
        "\n",
        "        output_image[oy, ox] = p\n",
        "\n",
        "cv_imshow(output_image)"
      ],
      "metadata": {
        "id": "eUMG4B7BcTRw",
        "outputId": "b35338e6-90d1-4851-c766-671e81a46aeb",
        "colab": {
          "base_uri": "https://localhost:8080/",
          "height": 161
        }
      },
      "execution_count": 33,
      "outputs": [
        {
          "output_type": "display_data",
          "data": {
            "text/plain": [
              "<PIL.Image.Image image mode=L size=144x144>"
            ],
            "image/png": "[encoded data removed]"
          },
          "metadata": {}
        }
      ]
    },
    {
      "cell_type": "markdown",
      "source": [
        "## Bicubic interpolation"
      ],
      "metadata": {
        "id": "AV-7arfnvPoo"
      }
    },
    {
      "cell_type": "code",
      "source": [
        "cv_imshow(cv.resize(image, (output_width, output_height), cv.INTER_CUBIC))"
      ],
      "metadata": {
        "id": "d3BmqzHevPvL",
        "outputId": "ccf2602d-0522-4314-9a66-94bad4b7e009",
        "colab": {
          "base_uri": "https://localhost:8080/",
          "height": 161
        }
      },
      "execution_count": 34,
      "outputs": [
        {
          "output_type": "display_data",
          "data": {
            "text/plain": [
              "<PIL.Image.Image image mode=L size=144x144>"
            ],
            "image/png": "[encoded data removed]"
          },
          "metadata": {}
        }
      ]
    },
    {
      "cell_type": "markdown",
      "source": [
        "## Lanczos interpolation"
      ],
      "metadata": {
        "id": "h-ZIXQu9w_wa"
      }
    },
    {
      "cell_type": "code",
      "source": [
        "cv_imshow(cv.resize(image, (output_width, output_height), cv.INTER_LANCZOS4))"
      ],
      "metadata": {
        "id": "dYxPSZI1w_4U",
        "outputId": "33e1cd2c-492a-4fb2-f7b1-9725903c635d",
        "colab": {
          "base_uri": "https://localhost:8080/",
          "height": 161
        }
      },
      "execution_count": 35,
      "outputs": [
        {
          "output_type": "display_data",
          "data": {
            "text/plain": [
              "<PIL.Image.Image image mode=L size=144x144>"
            ],
            "image/png": "[encoded data removed]"
          },
          "metadata": {}
        }
      ]
    },
    {
      "cell_type": "markdown",
      "source": [
        "You can click on the ![toc.png](data:image/png;base64,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) tab to the left to browse by section."
      ],
      "metadata": {
        "id": "AjrRTaAR6xQK"
      }
    }
  ],
  "metadata": {
    "colab": {
      "provenance": [],
      "include_colab_link": true
    },
    "kernelspec": {
      "display_name": "Python 3",
      "name": "python3"
    },
    "language_info": {
      "name": "python"
    }
  },
  "nbformat": 4,
  "nbformat_minor": 0
}