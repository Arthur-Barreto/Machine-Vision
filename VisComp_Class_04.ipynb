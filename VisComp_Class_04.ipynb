{
  "nbformat": 4,
  "nbformat_minor": 0,
  "metadata": {
    "colab": {
      "provenance": [],
      "include_colab_link": true
    },
    "kernelspec": {
      "name": "python3",
      "display_name": "Python 3"
    },
    "language_info": {
      "name": "python"
    }
  },
  "cells": [
    {
      "cell_type": "markdown",
      "metadata": {
        "id": "view-in-github",
        "colab_type": "text"
      },
      "source": [
        "<a href=\"https://colab.research.google.com/github/Arthur-Barreto/Machine-Vision/blob/main/VisComp_Class_04.ipynb\" target=\"_parent\"><img src=\"https://colab.research.google.com/assets/colab-badge.svg\" alt=\"Open In Colab\"/></a>"
      ]
    },
    {
      "cell_type": "markdown",
      "source": [
        "# Class 4: Handling Noise"
      ],
      "metadata": {
        "id": "ldormuK39mU1"
      }
    },
    {
      "cell_type": "markdown",
      "source": [
        "## Preliminaries"
      ],
      "metadata": {
        "id": "Ot_LD8I8AOQ6"
      }
    },
    {
      "cell_type": "markdown",
      "source": [
        "Run the cell below to download the class pack."
      ],
      "metadata": {
        "id": "jrA0L5tPd_aG"
      }
    },
    {
      "cell_type": "code",
      "source": [
        "import gdown\n",
        "\n",
        "gdown.download(id='1VP6k_Fd6hNlnJ0f2bvD_VvOAIudrU2z_')\n",
        "\n",
        "!unzip -o '04.zip'\n",
        "!rm '04.zip'"
      ],
      "metadata": {
        "id": "fMqO3xXod_fM"
      },
      "execution_count": null,
      "outputs": []
    },
    {
      "cell_type": "markdown",
      "source": [
        "Run the cell below to import the class modules.\n",
        "\n",
        "If you get import warnings, try using **Ctrl+m .** (notice there is a dot there) to restart the kernel."
      ],
      "metadata": {
        "id": "qLYdrANx9t0n"
      }
    },
    {
      "cell_type": "code",
      "source": [
        "import numpy as np\n",
        "\n",
        "from sdx import *"
      ],
      "metadata": {
        "id": "x3QrEMEhje9z"
      },
      "execution_count": null,
      "outputs": []
    },
    {
      "cell_type": "markdown",
      "source": [
        "## Loading a specific image"
      ],
      "metadata": {
        "id": "FzVrYCphLnJp"
      }
    },
    {
      "cell_type": "markdown",
      "source": [
        "The idea of this notebook is running the same code for different images.\n",
        "\n",
        "By changing the two parameters below, you have 6x3=18 images to choose."
      ],
      "metadata": {
        "id": "YvB8-zG6t6AG"
      }
    },
    {
      "cell_type": "markdown",
      "source": [
        "Possible values of `NAME`: `atletica`, `consulting`, `smash`, `insper`, `harvard`, `informatica`"
      ],
      "metadata": {
        "id": "TzdNgDucYNic"
      }
    },
    {
      "cell_type": "code",
      "source": [
        "NAME = 'atletica'"
      ],
      "metadata": {
        "id": "2Gu9B72mYGsE"
      },
      "execution_count": null,
      "outputs": []
    },
    {
      "cell_type": "markdown",
      "source": [
        "Possible values of `LEVEL`: `8`, `16`, `32`"
      ],
      "metadata": {
        "id": "64Fm3KGWYNO_"
      }
    },
    {
      "cell_type": "code",
      "source": [
        "LEVEL = 8"
      ],
      "metadata": {
        "id": "M1m68URKYMD9"
      },
      "execution_count": null,
      "outputs": []
    },
    {
      "cell_type": "markdown",
      "source": [
        "The cell below loads the chosen image, converts it to gray, and converts it to `float`.\n",
        "\n",
        "Play a bit with the two parameters to see the differences between the images."
      ],
      "metadata": {
        "id": "XCKc5EDjYcoF"
      }
    },
    {
      "cell_type": "code",
      "source": [
        "image = cv_grayread(f'{NAME}-{LEVEL}.png')\n",
        "\n",
        "cv_imshow(image)"
      ],
      "metadata": {
        "id": "qygNA0FvYcqV"
      },
      "execution_count": null,
      "outputs": []
    },
    {
      "cell_type": "markdown",
      "source": [
        "## Part 1: average blur\n",
        "\n",
        "For each pair of coordinates `(y, x)`, consider its neighborhood of size `n`, that is, the region of interest from rows `y-n//2` to `y+n//2` and columns `x-n//2` + `x+n//2` (inclusive). We will always consider that `n` is odd, so that `(y, x)` is the exact center of this region."
      ],
      "metadata": {
        "id": "AuykMNUlLnZn"
      }
    },
    {
      "cell_type": "markdown",
      "source": [
        "### Challenge (easy level):"
      ],
      "metadata": {
        "id": "nGozGT-b22vb"
      }
    },
    {
      "cell_type": "markdown",
      "source": [
        "Write a function that, given an image, creates a new image where each pixel is the *average of the neighborhood of size `3`* of the original pixel.\n",
        "\n",
        "You can use four loops, like in Class 1, but you are free to use NumPy resources to reduce the number of loops."
      ],
      "metadata": {
        "id": "aXNyswEI22yS"
      }
    },
    {
      "cell_type": "code",
      "source": [
        "def average_blur(image):\n",
        "    final_image = image.copy()\n",
        "    height, widht = final_image.shape\n",
        "    n = 3\n",
        "\n",
        "    for i in range(n//2, widht-n//2):\n",
        "        for j in range(n//2, height-n//2):\n",
        "            roi = image[i-n//2 : i+n//2, j-n//2:j+n//2]\n",
        "            final_image[i,j] = np.mean(roi)\n",
        "\n",
        "    return final_image"
      ],
      "metadata": {
        "id": "TWrF2yMRLni5"
      },
      "execution_count": null,
      "outputs": []
    },
    {
      "cell_type": "code",
      "source": [
        "cv_imshow(average_blur(image))"
      ],
      "metadata": {
        "id": "vY9zWKKM44n8"
      },
      "execution_count": null,
      "outputs": []
    },
    {
      "cell_type": "markdown",
      "source": [
        "### Challenge (medium level):"
      ],
      "metadata": {
        "id": "fMDxJcxs4xxh"
      }
    },
    {
      "cell_type": "markdown",
      "source": [
        "Generalize your function for an arbitrary given size `n`."
      ],
      "metadata": {
        "id": "rXYC6vgK4x3B"
      }
    },
    {
      "cell_type": "code",
      "source": [
        "def average_blur(image, n):\n",
        "    final_image = image.copy()\n",
        "    height, widht = final_image.shape\n",
        "\n",
        "    for i in range(n//2, widht-n//2):\n",
        "        for j in range(n//2, height-n//2):\n",
        "            roi = image[i-n//2 : i+n//2, j-n//2:j+n//2]\n",
        "            final_image[i,j] = np.mean(roi)\n",
        "\n",
        "    return final_image"
      ],
      "metadata": {
        "id": "G3Fb8c2y461K"
      },
      "execution_count": null,
      "outputs": []
    },
    {
      "cell_type": "code",
      "source": [
        "cv_imshow(average_blur(image, 31))"
      ],
      "metadata": {
        "id": "5s-zo7c5463T"
      },
      "execution_count": null,
      "outputs": []
    },
    {
      "cell_type": "markdown",
      "source": [
        "### Challenge (hard level)\n",
        "\n",
        "Using only NumPy, rewrite the previous function without any loops."
      ],
      "metadata": {
        "id": "PajqON3N4yGw"
      }
    },
    {
      "cell_type": "code",
      "source": [
        "from scipy.signal import convolve2d\n",
        "\n",
        "def average_blur(image, n):\n",
        "    data = image.copy()\n",
        "    # Define blurring kernel\n",
        "    blur_kernel = np.ones((n, n)) / (n ** 2)\n",
        "\n",
        "    # Pad the data to handle borders\n",
        "    padded_data = np.pad(data, n // 2, mode='wrap')\n",
        "\n",
        "    # Perform the blurring operation using numpy's strides\n",
        "    blurred_data = np.lib.stride_tricks.sliding_window_view(padded_data, (n, n))\n",
        "    blurred_data = np.sum(blurred_data * blur_kernel, axis=(2, 3))\n",
        "\n",
        "    return blurred_data"
      ],
      "metadata": {
        "id": "T7XhQZniSouY"
      },
      "execution_count": null,
      "outputs": []
    },
    {
      "cell_type": "code",
      "source": [
        "cv_imshow(average_blur(image, 31))"
      ],
      "metadata": {
        "id": "lELkJV2iVCIV"
      },
      "execution_count": null,
      "outputs": []
    },
    {
      "cell_type": "markdown",
      "source": [
        "## Part 2: gaussian blur"
      ],
      "metadata": {
        "id": "3JVBt8yN5qZ2"
      }
    },
    {
      "cell_type": "markdown",
      "source": [
        "### Challenge (easy level)"
      ],
      "metadata": {
        "id": "nYCSPnxg5qcK"
      }
    },
    {
      "cell_type": "markdown",
      "source": [
        "Write a function that, given an image, creates a new image where each pixel is the *sum of the neighborhood of size `3`* of the original pixel, but weighted by the gaussian function below. You *can* assume that $\\sigma = 1$ and you **must** assume that the origin `(0, 0)` in the function is the center of the neighborhood.\n",
        "\n",
        "$$\\frac{e^{-(x^2+y^2)/2\\sigma^2}}{2\\pi\\sigma^2}$$\n",
        "\n",
        "You can use four loops, like in Class 1, but you are free to use NumPy resources to reduce the number of loops."
      ],
      "metadata": {
        "id": "s-hFVezF5qet"
      }
    },
    {
      "cell_type": "code",
      "source": [
        "def gaussian_blur(image):\n",
        "    n = 3\n",
        "    sigma = 1\n",
        "    img = image.copy()\n",
        "    kernel = np.fromfunction(\n",
        "        lambda x, y: (1/ (2 * np.pi * sigma**2)) * np.exp(-((x - n//2)**2 + (y - n//2)**2) / (2 * sigma**2)),\n",
        "        (n, n)\n",
        "    )\n",
        "    kernel = kernel / np.sum(kernel)\n",
        "\n",
        "    blurred_image = np.zeros_like(img, dtype=float)\n",
        "    padded_image = np.pad(img, n//2, mode='wrap')\n",
        "\n",
        "    for i in range(img.shape[0]):\n",
        "        for j in range(img.shape[1]):\n",
        "            blurred_image[i, j] = np.sum(kernel * padded_image[i:i+n, j:j+n])\n",
        "\n",
        "    return blurred_image"
      ],
      "metadata": {
        "id": "fOlfJivHjRMz"
      },
      "execution_count": null,
      "outputs": []
    },
    {
      "cell_type": "code",
      "source": [
        "cv_imshow(gaussian_blur(image))"
      ],
      "metadata": {
        "id": "PZmLegog7S5g"
      },
      "execution_count": null,
      "outputs": []
    },
    {
      "cell_type": "markdown",
      "source": [
        "### Challenge (medium level):"
      ],
      "metadata": {
        "id": "mPOffDzdLnsB"
      }
    },
    {
      "cell_type": "markdown",
      "source": [
        "Generalize your function for an arbitrary given size `n` and an arbitrary `sigma`."
      ],
      "metadata": {
        "id": "wklHu8O17ZYd"
      }
    },
    {
      "cell_type": "code",
      "source": [
        "def gaussian_blur(image, n, s):\n",
        "    img = image.copy()\n",
        "    kernel = np.fromfunction(\n",
        "        lambda x, y: (1/ (2 * np.pi * s**2)) * np.exp(-((x - n//2)**2 + (y - n//2)**2) / (2 * s**2)),\n",
        "        (n, n)\n",
        "    )\n",
        "    kernel = kernel / np.sum(kernel)\n",
        "\n",
        "    blurred_image = np.zeros_like(img, dtype=float)\n",
        "    padded_image = np.pad(img, n//2, mode='wrap')\n",
        "\n",
        "    for i in range(img.shape[0]):\n",
        "        for j in range(img.shape[1]):\n",
        "            blurred_image[i, j] = np.sum(kernel * padded_image[i:i+n, j:j+n])\n",
        "\n",
        "    return blurred_image"
      ],
      "metadata": {
        "id": "GEaQH7EiLn2L"
      },
      "execution_count": null,
      "outputs": []
    },
    {
      "cell_type": "code",
      "source": [
        "cv_imshow(gaussian_blur(image, 3, 1))"
      ],
      "metadata": {
        "id": "sDEOc14d7khv"
      },
      "execution_count": null,
      "outputs": []
    },
    {
      "cell_type": "markdown",
      "source": [
        "### Challenge (hard level)"
      ],
      "metadata": {
        "id": "x7JW77aLLoAO"
      }
    },
    {
      "cell_type": "markdown",
      "source": [
        "Using only NumPy (okay, maybe SciPy too), rewrite the previous function without any loops."
      ],
      "metadata": {
        "id": "80i9flFV7vKD"
      }
    },
    {
      "cell_type": "code",
      "source": [
        "from scipy.signal import convolve2d\n",
        "\n",
        "def gaussian_blur(image, n, s):\n",
        "    img = image.copy()\n",
        "    kernel = np.fromfunction(\n",
        "        lambda x, y: (1/ (2 * np.pi * s**2)) * np.exp(-((x - n//2)**2 + (y - n//2)**2) / (2 * s**2)),\n",
        "        (n, n)\n",
        "    )\n",
        "    kernel = kernel / np.sum(kernel)\n",
        "\n",
        "    blurred_image = convolve2d(img.astype(float), kernel, mode='same', boundary='wrap')\n",
        "\n",
        "    return blurred_image"
      ],
      "metadata": {
        "id": "u6UCrJgwgJrF"
      },
      "execution_count": null,
      "outputs": []
    },
    {
      "cell_type": "code",
      "source": [
        "cv_imshow(gaussian_blur(image, 3, 1))"
      ],
      "metadata": {
        "id": "8HeUUnDhgZb4"
      },
      "execution_count": null,
      "outputs": []
    },
    {
      "cell_type": "markdown",
      "source": [
        "You can click on the ![toc.png](data:image/png;base64,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) tab to the left to browse by section."
      ],
      "metadata": {
        "id": "yeqlUsEC6lqA"
      }
    }
  ]
}