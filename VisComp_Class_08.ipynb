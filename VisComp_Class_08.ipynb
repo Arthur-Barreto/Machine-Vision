{
  "nbformat": 4,
  "nbformat_minor": 0,
  "metadata": {
    "colab": {
      "provenance": [],
      "toc_visible": true,
      "include_colab_link": true
    },
    "kernelspec": {
      "name": "python3",
      "display_name": "Python 3"
    },
    "language_info": {
      "name": "python"
    }
  },
  "cells": [
    {
      "cell_type": "markdown",
      "metadata": {
        "id": "view-in-github",
        "colab_type": "text"
      },
      "source": [
        "<a href=\"https://colab.research.google.com/github/Arthur-Barreto/Machine-Vision/blob/main/VisComp_Class_08.ipynb\" target=\"_parent\"><img src=\"https://colab.research.google.com/assets/colab-badge.svg\" alt=\"Open In Colab\"/></a>"
      ]
    },
    {
      "cell_type": "markdown",
      "source": [
        "# Class 8: Training Parameters"
      ],
      "metadata": {
        "id": "ldormuK39mU1"
      }
    },
    {
      "cell_type": "markdown",
      "source": [
        "## Preliminaries"
      ],
      "metadata": {
        "id": "Ot_LD8I8AOQ6"
      }
    },
    {
      "cell_type": "markdown",
      "source": [
        "Run the cell below to download the class pack."
      ],
      "metadata": {
        "id": "jrA0L5tPd_aG"
      }
    },
    {
      "cell_type": "code",
      "source": [
        "import gdown\n",
        "\n",
        "gdown.download(id='1UJQowByeR5rJ53G7LXPDHMSUI27ko_OR')\n",
        "\n",
        "!unzip -o '08.zip'\n",
        "!rm '08.zip'"
      ],
      "metadata": {
        "id": "fMqO3xXod_fM",
        "outputId": "060d656a-a494-499a-c851-b86565098531",
        "colab": {
          "base_uri": "https://localhost:8080/"
        }
      },
      "execution_count": 1,
      "outputs": [
        {
          "output_type": "stream",
          "name": "stderr",
          "text": [
            "Downloading...\n",
            "From: https://drive.google.com/uc?id=1UJQowByeR5rJ53G7LXPDHMSUI27ko_OR\n",
            "To: /content/08.zip\n",
            "100%|██████████| 1.10k/1.10k [00:00<00:00, 2.87MB/s]"
          ]
        },
        {
          "output_type": "stream",
          "name": "stdout",
          "text": [
            "Archive:  08.zip\n",
            "  inflating: sdx.py                  \n"
          ]
        },
        {
          "output_type": "stream",
          "name": "stderr",
          "text": [
            "\n"
          ]
        }
      ]
    },
    {
      "cell_type": "markdown",
      "source": [
        "Run the cell below to import the class modules.\n",
        "\n",
        "If you get import warnings, try using **Ctrl+m .** (notice there is a dot there) to restart the kernel."
      ],
      "metadata": {
        "id": "qLYdrANx9t0n"
      }
    },
    {
      "cell_type": "code",
      "source": [
        "from sdx import *\n",
        "from tensorflow import keras"
      ],
      "metadata": {
        "id": "x3QrEMEhje9z"
      },
      "execution_count": 3,
      "outputs": []
    },
    {
      "cell_type": "markdown",
      "source": [
        "## Loading and preparing the MNIST dataset"
      ],
      "metadata": {
        "id": "3ZG8DhOSj3Pe"
      }
    },
    {
      "cell_type": "code",
      "source": [
        "(train_images, train_labels), (test_images, test_labels) = keras.datasets.mnist.load_data()"
      ],
      "metadata": {
        "id": "Y-TeDhsQj3TO",
        "outputId": "6f3782e2-27fe-4957-dec8-f376db78a7aa",
        "colab": {
          "base_uri": "https://localhost:8080/"
        }
      },
      "execution_count": 4,
      "outputs": [
        {
          "output_type": "stream",
          "name": "stdout",
          "text": [
            "Downloading data from https://storage.googleapis.com/tensorflow/tf-keras-datasets/mnist.npz\n",
            "11490434/11490434 [==============================] - 0s 0us/step\n"
          ]
        }
      ]
    },
    {
      "cell_type": "code",
      "source": [
        "train_images = train_images.astype(float) / 255\n",
        "test_images = test_images.astype(float) / 255"
      ],
      "metadata": {
        "id": "9wsgNGitzqKa"
      },
      "execution_count": 5,
      "outputs": []
    },
    {
      "cell_type": "code",
      "source": [
        "inputs = keras.Input(shape=(28, 28, 1))"
      ],
      "metadata": {
        "id": "0QBnCebQzrTe"
      },
      "execution_count": 6,
      "outputs": []
    },
    {
      "cell_type": "code",
      "source": [
        "def compile_model(inputs, outputs):\n",
        "  model = keras.Model(inputs, outputs)\n",
        "  model.compile(loss=keras.losses.SparseCategoricalCrossentropy(from_logits=True))\n",
        "  return model"
      ],
      "metadata": {
        "id": "yUQ26jg72VXF"
      },
      "execution_count": 7,
      "outputs": []
    },
    {
      "cell_type": "markdown",
      "source": [
        "## Training and evaluating the neural network"
      ],
      "metadata": {
        "id": "8PV9o642z5FI"
      }
    },
    {
      "cell_type": "code",
      "source": [
        "layer = keras.layers.Conv2D(3, 3, use_bias=False)\n",
        "outputs = layer(inputs)\n",
        "\n",
        "layer = keras.layers.Flatten()\n",
        "outputs = layer(outputs)\n",
        "\n",
        "layer = keras.layers.Dense(10)\n",
        "outputs = layer(outputs)\n",
        "\n",
        "model = compile_model(inputs, outputs)\n",
        "\n",
        "model.summary()"
      ],
      "metadata": {
        "id": "7kc76lQEkN_U",
        "outputId": "bf80557b-132c-484e-d5c0-967585408e3d",
        "colab": {
          "base_uri": "https://localhost:8080/"
        }
      },
      "execution_count": 19,
      "outputs": [
        {
          "output_type": "stream",
          "name": "stdout",
          "text": [
            "Model: \"model_8\"\n",
            "_________________________________________________________________\n",
            " Layer (type)                Output Shape              Param #   \n",
            "=================================================================\n",
            " input_1 (InputLayer)        [(None, 28, 28, 1)]       0         \n",
            "                                                                 \n",
            " conv2d_8 (Conv2D)           (None, 26, 26, 3)         27        \n",
            "                                                                 \n",
            " flatten_8 (Flatten)         (None, 2028)              0         \n",
            "                                                                 \n",
            " dense_8 (Dense)             (None, 10)                20290     \n",
            "                                                                 \n",
            "=================================================================\n",
            "Total params: 20317 (79.36 KB)\n",
            "Trainable params: 20317 (79.36 KB)\n",
            "Non-trainable params: 0 (0.00 Byte)\n",
            "_________________________________________________________________\n"
          ]
        }
      ]
    },
    {
      "cell_type": "code",
      "source": [
        "history = model.fit(train_images, train_labels, batch_size=32, epochs=50, validation_split=0.2)\n",
        "plot_loss(history)"
      ],
      "metadata": {
        "id": "ZcjLRuvPzwC0",
        "outputId": "b2e858da-5314-40ae-9604-9e4d9adfe489",
        "colab": {
          "base_uri": "https://localhost:8080/",
          "height": 1000
        }
      },
      "execution_count": 20,
      "outputs": [
        {
          "output_type": "stream",
          "name": "stdout",
          "text": [
            "Epoch 1/50\n",
            "1500/1500 [==============================] - 12s 8ms/step - loss: 0.3861 - val_loss: 0.3068\n",
            "Epoch 2/50\n",
            "1500/1500 [==============================] - 12s 8ms/step - loss: 0.3076 - val_loss: 0.2924\n",
            "Epoch 3/50\n",
            "1500/1500 [==============================] - 12s 8ms/step - loss: 0.2919 - val_loss: 0.2790\n",
            "Epoch 4/50\n",
            "1500/1500 [==============================] - 12s 8ms/step - loss: 0.2840 - val_loss: 0.2780\n",
            "Epoch 5/50\n",
            "1500/1500 [==============================] - 12s 8ms/step - loss: 0.2778 - val_loss: 0.2736\n",
            "Epoch 6/50\n",
            "1500/1500 [==============================] - 13s 9ms/step - loss: 0.2729 - val_loss: 0.2745\n",
            "Epoch 7/50\n",
            "1500/1500 [==============================] - 13s 9ms/step - loss: 0.2689 - val_loss: 0.2734\n",
            "Epoch 8/50\n",
            "1500/1500 [==============================] - 13s 8ms/step - loss: 0.2661 - val_loss: 0.2784\n",
            "Epoch 9/50\n",
            "1500/1500 [==============================] - 12s 8ms/step - loss: 0.2638 - val_loss: 0.2754\n",
            "Epoch 10/50\n",
            "1500/1500 [==============================] - 12s 8ms/step - loss: 0.2608 - val_loss: 0.2783\n",
            "Epoch 11/50\n",
            "1500/1500 [==============================] - 11s 7ms/step - loss: 0.2591 - val_loss: 0.2782\n",
            "Epoch 12/50\n",
            "1500/1500 [==============================] - 11s 7ms/step - loss: 0.2575 - val_loss: 0.2806\n",
            "Epoch 13/50\n",
            "1500/1500 [==============================] - 12s 8ms/step - loss: 0.2560 - val_loss: 0.2841\n",
            "Epoch 14/50\n",
            "1500/1500 [==============================] - 12s 8ms/step - loss: 0.2547 - val_loss: 0.2800\n",
            "Epoch 15/50\n",
            "1500/1500 [==============================] - 12s 8ms/step - loss: 0.2538 - val_loss: 0.2828\n",
            "Epoch 16/50\n",
            "1500/1500 [==============================] - 12s 8ms/step - loss: 0.2524 - val_loss: 0.2830\n",
            "Epoch 17/50\n",
            "1500/1500 [==============================] - 12s 8ms/step - loss: 0.2517 - val_loss: 0.2838\n",
            "Epoch 18/50\n",
            "1500/1500 [==============================] - 12s 8ms/step - loss: 0.2506 - val_loss: 0.2864\n",
            "Epoch 19/50\n",
            "1500/1500 [==============================] - 12s 8ms/step - loss: 0.2498 - val_loss: 0.2856\n",
            "Epoch 20/50\n",
            "1500/1500 [==============================] - 12s 8ms/step - loss: 0.2493 - val_loss: 0.2894\n",
            "Epoch 21/50\n",
            "1500/1500 [==============================] - 12s 8ms/step - loss: 0.2486 - val_loss: 0.2856\n",
            "Epoch 22/50\n",
            "1500/1500 [==============================] - 12s 8ms/step - loss: 0.2478 - val_loss: 0.2895\n",
            "Epoch 23/50\n",
            "1500/1500 [==============================] - 12s 8ms/step - loss: 0.2471 - val_loss: 0.2891\n",
            "Epoch 24/50\n",
            "1500/1500 [==============================] - 12s 8ms/step - loss: 0.2473 - val_loss: 0.2883\n",
            "Epoch 25/50\n",
            "1500/1500 [==============================] - 12s 8ms/step - loss: 0.2462 - val_loss: 0.2894\n",
            "Epoch 26/50\n",
            "1500/1500 [==============================] - 12s 8ms/step - loss: 0.2463 - val_loss: 0.2935\n",
            "Epoch 27/50\n",
            "1500/1500 [==============================] - 12s 8ms/step - loss: 0.2458 - val_loss: 0.2886\n",
            "Epoch 28/50\n",
            "1500/1500 [==============================] - 12s 8ms/step - loss: 0.2451 - val_loss: 0.2958\n",
            "Epoch 29/50\n",
            "1500/1500 [==============================] - 12s 8ms/step - loss: 0.2449 - val_loss: 0.2963\n",
            "Epoch 30/50\n",
            "1500/1500 [==============================] - 12s 8ms/step - loss: 0.2441 - val_loss: 0.2883\n",
            "Epoch 31/50\n",
            "1500/1500 [==============================] - 12s 8ms/step - loss: 0.2445 - val_loss: 0.2927\n",
            "Epoch 32/50\n",
            "1500/1500 [==============================] - 11s 7ms/step - loss: 0.2436 - val_loss: 0.2922\n",
            "Epoch 33/50\n",
            "1500/1500 [==============================] - 11s 8ms/step - loss: 0.2439 - val_loss: 0.2946\n",
            "Epoch 34/50\n",
            "1500/1500 [==============================] - 12s 8ms/step - loss: 0.2435 - val_loss: 0.2955\n",
            "Epoch 35/50\n",
            "1500/1500 [==============================] - 12s 8ms/step - loss: 0.2431 - val_loss: 0.2934\n",
            "Epoch 36/50\n",
            "1500/1500 [==============================] - 12s 8ms/step - loss: 0.2428 - val_loss: 0.2973\n",
            "Epoch 37/50\n",
            "1500/1500 [==============================] - 12s 8ms/step - loss: 0.2426 - val_loss: 0.2928\n",
            "Epoch 38/50\n",
            "1500/1500 [==============================] - 12s 8ms/step - loss: 0.2424 - val_loss: 0.2990\n",
            "Epoch 39/50\n",
            "1500/1500 [==============================] - 12s 8ms/step - loss: 0.2422 - val_loss: 0.2959\n",
            "Epoch 40/50\n",
            "1500/1500 [==============================] - 13s 9ms/step - loss: 0.2416 - val_loss: 0.2960\n",
            "Epoch 41/50\n",
            "1500/1500 [==============================] - 12s 8ms/step - loss: 0.2417 - val_loss: 0.2955\n",
            "Epoch 42/50\n",
            "1500/1500 [==============================] - 12s 8ms/step - loss: 0.2417 - val_loss: 0.2961\n",
            "Epoch 43/50\n",
            "1500/1500 [==============================] - 12s 8ms/step - loss: 0.2418 - val_loss: 0.2930\n",
            "Epoch 44/50\n",
            "1500/1500 [==============================] - 12s 8ms/step - loss: 0.2410 - val_loss: 0.2950\n",
            "Epoch 45/50\n",
            "1500/1500 [==============================] - 12s 8ms/step - loss: 0.2414 - val_loss: 0.2991\n",
            "Epoch 46/50\n",
            "1500/1500 [==============================] - 12s 8ms/step - loss: 0.2407 - val_loss: 0.2979\n",
            "Epoch 47/50\n",
            "1500/1500 [==============================] - 11s 7ms/step - loss: 0.2409 - val_loss: 0.3011\n",
            "Epoch 48/50\n",
            "1500/1500 [==============================] - 11s 8ms/step - loss: 0.2407 - val_loss: 0.2997\n",
            "Epoch 49/50\n",
            "1500/1500 [==============================] - 12s 8ms/step - loss: 0.2405 - val_loss: 0.2957\n",
            "Epoch 50/50\n",
            "1500/1500 [==============================] - 12s 8ms/step - loss: 0.2405 - val_loss: 0.2950\n"
          ]
        },
        {
          "output_type": "display_data",
          "data": {
            "text/plain": [
              "<Figure size 640x480 with 1 Axes>"
            ],
            "image/png": "[encoded data removed]"
          },
          "metadata": {}
        }
      ]
    },
    {
      "cell_type": "markdown",
      "source": [
        "You can click on the ![toc.png](data:image/png;base64,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) tab to the left to browse by section."
      ],
      "metadata": {
        "id": "yeqlUsEC6lqA"
      }
    }
  ]
}